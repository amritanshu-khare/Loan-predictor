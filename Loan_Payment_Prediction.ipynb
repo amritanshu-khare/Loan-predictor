{
  "nbformat": 4,
  "nbformat_minor": 0,
  "metadata": {
    "colab": {
      "name": "Loan Payment Prediction.ipynb",
      "provenance": [],
      "authorship_tag": "ABX9TyPTZ3ASeHliaG2OtYWwe2cH"
    },
    "kernelspec": {
      "name": "python3",
      "display_name": "Python 3"
    },
    "language_info": {
      "name": "python"
    }
  },
  "cells": [
    {
      "cell_type": "code",
      "execution_count": null,
      "metadata": {
        "id": "X8bBuNLjctvH"
      },
      "outputs": [],
      "source": [
        "import numpy as np\n",
        "import pandas as pd\n",
        "\n",
        "from sklearn.preprocessing import StandardScaler\n",
        "from sklearn.model_selection import train_test_split\n",
        "\n",
        "from sklearn.linear_model import LogisticRegression\n",
        "from sklearn.svm import SVC \n",
        "from sklearn.tree import DecisionTreeClassifier\n",
        "from sklearn.neural_network import MLPClassifier\n",
        "from sklearn.ensemble import RandomForestClassifier\n",
        "from xgboost import XGBClassifier "
      ]
    },
    {
      "cell_type": "code",
      "source": [
        "# importing data\n",
        "data = pd.read_csv('/content/Loan payments data.csv')"
      ],
      "metadata": {
        "id": "K4WLMbmCeOiB"
      },
      "execution_count": null,
      "outputs": []
    },
    {
      "cell_type": "code",
      "source": [
        "data"
      ],
      "metadata": {
        "id": "IdQtNTQeennn"
      },
      "execution_count": null,
      "outputs": []
    },
    {
      "cell_type": "code",
      "source": [
        "data.info()"
      ],
      "metadata": {
        "id": "hjUFSnkAerbc"
      },
      "execution_count": null,
      "outputs": []
    },
    {
      "cell_type": "markdown",
      "source": [
        "Preprocessing"
      ],
      "metadata": {
        "id": "tRBnAgkgfTmB"
      }
    },
    {
      "cell_type": "code",
      "source": [
        "data.isna().sum()"
      ],
      "metadata": {
        "id": "JCX_fD3bf_lG"
      },
      "execution_count": null,
      "outputs": []
    },
    {
      "cell_type": "code",
      "source": [
        "data['loan_status'].unique()"
      ],
      "metadata": {
        "colab": {
          "base_uri": "https://localhost:8080/"
        },
        "id": "mJKQyzHJfsrS",
        "outputId": "d77ddf49-ea90-46fb-9b4f-23de9e07104a"
      },
      "execution_count": null,
      "outputs": [
        {
          "output_type": "execute_result",
          "data": {
            "text/plain": [
              "array(['PAIDOFF', 'COLLECTION', 'COLLECTION_PAIDOFF'], dtype=object)"
            ]
          },
          "metadata": {},
          "execution_count": 6
        }
      ]
    },
    {
      "cell_type": "code",
      "source": [
        "{column: len(data[column].unique()) for column in data.columns}"
      ],
      "metadata": {
        "id": "ddpdaeVXgeK4"
      },
      "execution_count": null,
      "outputs": []
    },
    {
      "cell_type": "code",
      "source": [
        "# encoding\n",
        "def binary_encode(df, column, positive_value):\n",
        "  df = df.copy()\n",
        "  df[column] = df[column].apply(lambda x: 1 if x==positive_value else 0)\n",
        "  return df\n",
        "\n",
        "\n",
        "def ordinal_encode(df, column, ordering):\n",
        "    df = df.copy()\n",
        "    df[column] = df[column].apply(lambda x: ordering.index(x))\n",
        "    return df"
      ],
      "metadata": {
        "id": "Zd6lrNsGoV-t"
      },
      "execution_count": null,
      "outputs": []
    },
    {
      "cell_type": "code",
      "source": [
        "def preprocess_inputs(df):\n",
        "  df = df.copy()\n",
        "\n",
        "  # drop Loan_ID column\n",
        "  df = df.drop('Loan_ID',axis=1)\n",
        "\n",
        "  # create date/time column\n",
        "  for column in ['effective_date', 'due_date', 'paid_off_time']:\n",
        "      df[column] = pd.to_datetime(df[column])\n",
        "  \n",
        "  df['effective_year'] = df['effective_date'].apply(lambda x: x.year)\n",
        "  #df['effective_month'] = df['effective_date'].apply(lambda x: x.month)\n",
        "  #df['effective_day'] = df['effective_date'].apply(lambda x: x.day)\n",
        "  \n",
        "  #df['due_year'] = df['due_date'].apply(lambda x: x.year)\n",
        "  df['due_month'] = df['due_date'].apply(lambda x: x.month)\n",
        "  df['due_day'] = df['due_date'].apply(lambda x: x.day)\n",
        "\n",
        "  #df['paid_off_year'] = df['paid_off_time'].apply(lambda x: x.year)\n",
        "  df['paid_off_month'] = df['paid_off_time'].apply(lambda x: x.month)\n",
        "  df['paid_off_day'] = df['paid_off_time'].apply(lambda x: x.day)\n",
        "  df['paid_off_hour'] = df['paid_off_time'].apply(lambda x: x.hour)\n",
        "\n",
        "  # dropping date time column\n",
        "  df = df.drop(['effective_date', 'due_date', 'paid_off_time'], axis=1)\n",
        "\n",
        "  # fill missing value with column means\n",
        "  for column in ['paid_off_month', 'paid_off_day', 'paid_off_hour', 'past_due_days']:\n",
        "    df[column] = df[column].fillna(df[column].mean()) \n",
        "\n",
        "  # Binary encode the gender column \n",
        "  df = binary_encode(df, 'Gender', positive_value='male' )\n",
        "\n",
        "  # ordinal encode the educaton column\n",
        "  education_ordering = ['High School or Below','college', 'Bechalor','Master or Above'] \n",
        "  df = ordinal_encode(df, 'education', ordering=education_ordering)\n",
        "\n",
        "  # encoding the y (loan status column)\n",
        "  label_mapping = {'COLLECTION' : 0, 'PAIDOFF' : 1, 'COLLECTION_PAIDOFF' : 2}\n",
        "  df['loan_status'] = df['loan_status'].replace(label_mapping)\n",
        "\n",
        "  # split loan status column\n",
        "  y=df['loan_status'].copy()\n",
        "  X=df.drop('loan_status',axis=1).copy()\n",
        "\n",
        "  # scaling X with standard scaler\n",
        "  scaler = StandardScaler()\n",
        "  X = pd.DataFrame(scaler.fit_transform(X), columns = X.columns)\n",
        "  return X,y"
      ],
      "metadata": {
        "id": "itMUj0GVe0wP"
      },
      "execution_count": null,
      "outputs": []
    },
    {
      "cell_type": "code",
      "source": [
        "X, y = preprocess_inputs(data)\n",
        "X"
      ],
      "metadata": {
        "id": "vq-gDsn6h9NH"
      },
      "execution_count": null,
      "outputs": []
    },
    {
      "cell_type": "code",
      "source": [
        "X.isna().sum()"
      ],
      "metadata": {
        "id": "O6S3sG1ViGhq"
      },
      "execution_count": null,
      "outputs": []
    },
    {
      "cell_type": "code",
      "source": [
        "{column: list(X[column].unique()) for column in X.select_dtypes('object').columns}"
      ],
      "metadata": {
        "id": "XcnWMs1gmD77"
      },
      "execution_count": null,
      "outputs": []
    },
    {
      "cell_type": "code",
      "source": [
        "y"
      ],
      "metadata": {
        "id": "XsWvy7ZZoRff"
      },
      "execution_count": null,
      "outputs": []
    },
    {
      "cell_type": "code",
      "source": [
        "{column: len(X[column].unique()) for column in X.columns}"
      ],
      "metadata": {
        "id": "39ktxmtdlKIp"
      },
      "execution_count": null,
      "outputs": []
    },
    {
      "cell_type": "markdown",
      "source": [
        "Training\n"
      ],
      "metadata": {
        "id": "zX0L0qqAmxXm"
      }
    },
    {
      "cell_type": "code",
      "source": [
        "X_train, X_test, y_train, y_test = train_test_split(X,y, train_size=0.7, random_state=123)"
      ],
      "metadata": {
        "id": "VFfcIUY9mzrW"
      },
      "execution_count": null,
      "outputs": []
    },
    {
      "cell_type": "code",
      "source": [
        "models = [\n",
        "          LogisticRegression(),\n",
        "          SVC(),\n",
        "          DecisionTreeClassifier(),\n",
        "          MLPClassifier(),\n",
        "          RandomForestClassifier(),\n",
        "          XGBClassifier()\n",
        "]\n",
        "\n",
        "for model in models:\n",
        "  model.fit(X_train, y_train)\n",
        "\n",
        "model_names = [\"Logistic Regression\", \"SVC\", \"Decision Tree Classifier\", \"Nueral Networks\", \"Random Forest Classifier\", \"XG Boost\"]\n",
        "\n",
        "for model, name in zip(models,model_names):\n",
        "  print(name + \": {:.4f}%\".format(model.score(X_test,y_test)*100) )"
      ],
      "metadata": {
        "colab": {
          "base_uri": "https://localhost:8080/"
        },
        "id": "LVG1wJR6ncva",
        "outputId": "3c0421d1-792f-42a0-b817-ff6cc674ea94"
      },
      "execution_count": null,
      "outputs": [
        {
          "output_type": "stream",
          "name": "stderr",
          "text": [
            "/usr/local/lib/python3.7/dist-packages/sklearn/neural_network/_multilayer_perceptron.py:696: ConvergenceWarning: Stochastic Optimizer: Maximum iterations (200) reached and the optimization hasn't converged yet.\n",
            "  ConvergenceWarning,\n"
          ]
        },
        {
          "output_type": "stream",
          "name": "stdout",
          "text": [
            "Logistic Regression: 98.6667%\n",
            "SVC: 99.3333%\n",
            "Decision Tree Classifier: 100.0000%\n",
            "Nueral Networks: 100.0000%\n",
            "Random Forest Classifier: 100.0000%\n",
            "XG Boost: 100.0000%\n"
          ]
        }
      ]
    },
    {
      "cell_type": "code",
      "source": [
        "list(zip(models, model_names))"
      ],
      "metadata": {
        "id": "o4QO-ytso8pU"
      },
      "execution_count": null,
      "outputs": []
    },
    {
      "cell_type": "code",
      "source": [
        ""
      ],
      "metadata": {
        "id": "8yPu7wlmpBss"
      },
      "execution_count": null,
      "outputs": []
    }
  ]
}